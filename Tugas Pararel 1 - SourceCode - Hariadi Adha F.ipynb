{
 "cells": [
  {
   "cell_type": "code",
   "execution_count": 1,
   "metadata": {},
   "outputs": [],
   "source": [
    "import numpy as np\n",
    "from IPython.display import clear_output"
   ]
  },
  {
   "cell_type": "code",
   "execution_count": 2,
   "metadata": {},
   "outputs": [
    {
     "data": {
      "text/plain": [
       "0.3004474709604369"
      ]
     },
     "execution_count": 2,
     "metadata": {},
     "output_type": "execute_result"
    }
   ],
   "source": [
    "np.random.random()"
   ]
  },
  {
   "cell_type": "code",
   "execution_count": 3,
   "metadata": {},
   "outputs": [],
   "source": [
    "def getIndividu(nIndividu):\n",
    "    box = []\n",
    "    for i in range(0,nIndividu):\n",
    "        box.append(np.random.randint(0,9))\n",
    "    return box"
   ]
  },
  {
   "cell_type": "code",
   "execution_count": 4,
   "metadata": {},
   "outputs": [],
   "source": [
    "def getPopulasi(nPopulasi, nIndividu):\n",
    "    boxPop = []\n",
    "    for i in range(0,nPopulasi):\n",
    "        boxPop.append(getIndividu(nIndividu))\n",
    "    return boxPop"
   ]
  },
  {
   "cell_type": "code",
   "execution_count": 5,
   "metadata": {},
   "outputs": [],
   "source": [
    "def genPhenotype(x1,x2, individu):\n",
    "    cell = nIndividu//2\n",
    "    tempCell = cell+1\n",
    "    pangkat = 0\n",
    "    for i in range(1,tempCell):\n",
    "        pangkat = pangkat + 10**(-i)\n",
    "    blok1 = []\n",
    "    for i in range(0,cell):\n",
    "        blok1.append(individu[i])\n",
    "    blok2 = []\n",
    "    for i in range(cell,nIndividu):\n",
    "        blok2.append(individu[i])\n",
    "    \n",
    "    jum1 = 0\n",
    "    jum2 = 0\n",
    "    for i in range(1,tempCell):\n",
    "        jum1 = jum1 + blok1[i-1]*(10**(-i))\n",
    "    #print(\"jum1\",jum1)\n",
    "    for i in range(1,tempCell):\n",
    "        jum2 = jum2 + blok2[i-1]*(10**(-i))\n",
    "    #print(\"jum2\",jum2)\n",
    "            \n",
    "    nx1 = x1[0] + ((x1[1] - x1[0]) / (9 * pangkat))*jum1\n",
    "    nx2 = x2[0] + ((x2[1] - x2[0]) / (9 * pangkat))*jum2\n",
    "    \n",
    "    return nx1,nx2"
   ]
  },
  {
   "cell_type": "code",
   "execution_count": 6,
   "metadata": {},
   "outputs": [],
   "source": [
    "#fitness\n",
    "def fitness(x1,x2):\n",
    "    fit = -((((4-(2.1*(x1**2))+((x1**4)/3)))*x1**2)+(x1*x2)+((-4+4*x2**2))*x2**2)\n",
    "    return fit"
   ]
  },
  {
   "cell_type": "code",
   "execution_count": 7,
   "metadata": {
    "scrolled": true
   },
   "outputs": [],
   "source": [
    "def calculateFit(population):\n",
    "    fit = []\n",
    "    x1=[-3,3]\n",
    "    x2=[-2,2]\n",
    "    for i in range(nPopulasi):\n",
    "        val1,val2 = (genPhenotype(x1,x2,population[i]))\n",
    "        fit.append(fitness(val1,val2))\n",
    "    list(zip(population,fit))\n",
    "    return fit"
   ]
  },
  {
   "cell_type": "code",
   "execution_count": 8,
   "metadata": {},
   "outputs": [],
   "source": [
    "# Parent Selection\n",
    "def RouletteWheel(fit):\n",
    "    total = 0\n",
    "    for i in range(len(fit)):\n",
    "        total = total + fit[i]\n",
    "        \n",
    "    r = np.random.uniform(0,1)\n",
    "    individu = 0\n",
    "    i = 0\n",
    "    while r>0:\n",
    "        r = r - (fit[i]/total)\n",
    "        individu = individu+1\n",
    "        i = i+1\n",
    "    return individu-1"
   ]
  },
  {
   "cell_type": "code",
   "execution_count": 9,
   "metadata": {},
   "outputs": [],
   "source": [
    "#crossOver (pindah silang)\n",
    "def crossOver(tab1, tab2, probCrossOver):\n",
    "    if probCrossOver >= np.random.uniform(0,1):\n",
    "        cellRandom = np.random.randint(2,6)\n",
    "        cell1 = cellRandom\n",
    "        temp = tab1[cellRandom:]\n",
    "        tab1[cellRandom:] = tab2[cellRandom:]\n",
    "        tab2[cellRandom:] = temp\n",
    "    return tab1, tab2"
   ]
  },
  {
   "cell_type": "code",
   "execution_count": 10,
   "metadata": {},
   "outputs": [],
   "source": [
    "#mutasi\n",
    "def probMutation(tabel1, probMut):\n",
    "    for i in range(len(tabel1)):\n",
    "        if probMut>=np.random.uniform(0,1):\n",
    "            getValue1 = np.random.randint(0,9)\n",
    "#             getValue1 = abs(tabel1[i]-9)\n",
    "            tabel1[i] = getValue1\n",
    "    return tabel1"
   ]
  },
  {
   "cell_type": "code",
   "execution_count": 11,
   "metadata": {},
   "outputs": [],
   "source": [
    "def elitisme(fit,population):\n",
    "    sortPop = sorted(zip(fit,population), reverse=True)\n",
    "    return [sortPop[0][1],sortPop[1][1]]"
   ]
  },
  {
   "cell_type": "code",
   "execution_count": 26,
   "metadata": {},
   "outputs": [
    {
     "name": "stdout",
     "output_type": "stream",
     "text": [
      "(0.08744487408308688, -0.7119513309187113) 1.0316036637948904\n"
     ]
    }
   ],
   "source": [
    "#main Program\n",
    "nPopulasi = 150\n",
    "nIndividu = 25\n",
    "probCrossOver = 0.9999\n",
    "probMut = 0.6\n",
    "mainPopulation = getPopulasi(nPopulasi, nIndividu)\n",
    "maxGen = 1000\n",
    "for i in range(maxGen):\n",
    "    mainFit = calculateFit(mainPopulation)\n",
    "    newPopulation = elitisme(mainFit,mainPopulation)\n",
    "    while len(newPopulation) < nPopulasi:\n",
    "        p1 = mainPopulation[RouletteWheel(mainFit)].copy()\n",
    "        p2 = mainPopulation[RouletteWheel(mainFit)].copy()\n",
    "        newChild1, newChild2 = crossOver(p1, p2, probCrossOver)\n",
    "        newChild1 = probMutation(p1, probMut)\n",
    "        newChild2 = probMutation(p2, probMut)\n",
    "        newPopulation.append(newChild1)\n",
    "        newPopulation.append(newChild2)\n",
    "#     clear_output(wait=True)\n",
    "#     print(\"gen \",i)\n",
    "#     print(*list(zip(mainPopulation, mainFit)),sep=\"\\n\")    \n",
    "    mainPopulation = newPopulation\n",
    "# #     print(*mainFit,sep=\"\\n\")\n",
    "hasilfit = calculateFit(mainPopulation)\n",
    "x1=[-3,3]\n",
    "x2=[-2,2]\n",
    "print(genPhenotype(x1,x2,mainPopulation[0]),hasilfit[0])"
   ]
  },
  {
   "cell_type": "code",
   "execution_count": null,
   "metadata": {},
   "outputs": [],
   "source": []
  }
 ],
 "metadata": {
  "kernelspec": {
   "display_name": "Python 3",
   "language": "python",
   "name": "python3"
  },
  "language_info": {
   "codemirror_mode": {
    "name": "ipython",
    "version": 3
   },
   "file_extension": ".py",
   "mimetype": "text/x-python",
   "name": "python",
   "nbconvert_exporter": "python",
   "pygments_lexer": "ipython3",
   "version": "3.6.5"
  }
 },
 "nbformat": 4,
 "nbformat_minor": 2
}
